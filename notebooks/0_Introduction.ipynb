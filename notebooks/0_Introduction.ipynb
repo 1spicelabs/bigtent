{
 "cells": [
  {
   "cell_type": "markdown",
   "id": "1dcbe193-79dc-4a92-9bdd-8e46950a3771",
   "metadata": {
    "editable": true,
    "slideshow": {
     "slide_type": ""
    },
    "tags": []
   },
   "source": [
    "# Setup\n",
    "\n",
    "We install dependencies to be able to make queries against the BigTent API using the OpenAPI spec, and also the ipywidgets library to be able to show some drop down and text input controls."
   ]
  },
  {
   "cell_type": "code",
   "execution_count": 1,
   "id": "8054e2d2-685f-425b-bfc1-8499811e30c4",
   "metadata": {
    "editable": true,
    "slideshow": {
     "slide_type": ""
    },
    "tags": []
   },
   "outputs": [
    {
     "name": "stdout",
     "output_type": "stream",
     "text": [
      "Requirement already satisfied: ipywidgets in /home/astewart/.local/share/pipx/venvs/jupyterlab/lib/python3.12/site-packages (8.1.5)\n",
      "Requirement already satisfied: requests_openapi in /home/astewart/.local/share/pipx/venvs/jupyterlab/lib/python3.12/site-packages (1.0.5)\n",
      "Requirement already satisfied: comm>=0.1.3 in /home/astewart/.local/share/pipx/venvs/jupyterlab/lib/python3.12/site-packages (from ipywidgets) (0.2.2)\n",
      "Requirement already satisfied: ipython>=6.1.0 in /home/astewart/.local/share/pipx/venvs/jupyterlab/lib/python3.12/site-packages (from ipywidgets) (8.31.0)\n",
      "Requirement already satisfied: traitlets>=4.3.1 in /home/astewart/.local/share/pipx/venvs/jupyterlab/lib/python3.12/site-packages (from ipywidgets) (5.14.3)\n",
      "Requirement already satisfied: widgetsnbextension~=4.0.12 in /home/astewart/.local/share/pipx/venvs/jupyterlab/lib/python3.12/site-packages (from ipywidgets) (4.0.13)\n",
      "Requirement already satisfied: jupyterlab-widgets~=3.0.12 in /home/astewart/.local/share/pipx/venvs/jupyterlab/lib/python3.12/site-packages (from ipywidgets) (3.0.13)\n",
      "Requirement already satisfied: requests in /home/astewart/.local/share/pipx/venvs/jupyterlab/lib/python3.12/site-packages (from requests_openapi) (2.32.3)\n",
      "Requirement already satisfied: pyyaml in /home/astewart/.local/share/pipx/venvs/jupyterlab/lib/python3.12/site-packages (from requests_openapi) (6.0.2)\n",
      "Requirement already satisfied: openapi-pydantic in /home/astewart/.local/share/pipx/venvs/jupyterlab/lib/python3.12/site-packages (from requests_openapi) (0.5.1)\n",
      "Requirement already satisfied: jsonref in /home/astewart/.local/share/pipx/venvs/jupyterlab/lib/python3.12/site-packages (from requests_openapi) (1.1.0)\n",
      "Requirement already satisfied: decorator in /home/astewart/.local/share/pipx/venvs/jupyterlab/lib/python3.12/site-packages (from ipython>=6.1.0->ipywidgets) (5.1.1)\n",
      "Requirement already satisfied: jedi>=0.16 in /home/astewart/.local/share/pipx/venvs/jupyterlab/lib/python3.12/site-packages (from ipython>=6.1.0->ipywidgets) (0.19.2)\n",
      "Requirement already satisfied: matplotlib-inline in /home/astewart/.local/share/pipx/venvs/jupyterlab/lib/python3.12/site-packages (from ipython>=6.1.0->ipywidgets) (0.1.7)\n",
      "Requirement already satisfied: pexpect>4.3 in /home/astewart/.local/share/pipx/venvs/jupyterlab/lib/python3.12/site-packages (from ipython>=6.1.0->ipywidgets) (4.9.0)\n",
      "Requirement already satisfied: prompt_toolkit<3.1.0,>=3.0.41 in /home/astewart/.local/share/pipx/venvs/jupyterlab/lib/python3.12/site-packages (from ipython>=6.1.0->ipywidgets) (3.0.48)\n",
      "Requirement already satisfied: pygments>=2.4.0 in /home/astewart/.local/share/pipx/venvs/jupyterlab/lib/python3.12/site-packages (from ipython>=6.1.0->ipywidgets) (2.19.1)\n",
      "Requirement already satisfied: stack_data in /home/astewart/.local/share/pipx/venvs/jupyterlab/lib/python3.12/site-packages (from ipython>=6.1.0->ipywidgets) (0.6.3)\n",
      "Requirement already satisfied: pydantic>=1.8 in /home/astewart/.local/share/pipx/venvs/jupyterlab/lib/python3.12/site-packages (from openapi-pydantic->requests_openapi) (2.10.5)\n",
      "Requirement already satisfied: charset-normalizer<4,>=2 in /home/astewart/.local/share/pipx/venvs/jupyterlab/lib/python3.12/site-packages (from requests->requests_openapi) (3.4.1)\n",
      "Requirement already satisfied: idna<4,>=2.5 in /home/astewart/.local/share/pipx/venvs/jupyterlab/lib/python3.12/site-packages (from requests->requests_openapi) (3.10)\n",
      "Requirement already satisfied: urllib3<3,>=1.21.1 in /home/astewart/.local/share/pipx/venvs/jupyterlab/lib/python3.12/site-packages (from requests->requests_openapi) (2.3.0)\n",
      "Requirement already satisfied: certifi>=2017.4.17 in /home/astewart/.local/share/pipx/venvs/jupyterlab/lib/python3.12/site-packages (from requests->requests_openapi) (2024.12.14)\n",
      "Requirement already satisfied: parso<0.9.0,>=0.8.4 in /home/astewart/.local/share/pipx/venvs/jupyterlab/lib/python3.12/site-packages (from jedi>=0.16->ipython>=6.1.0->ipywidgets) (0.8.4)\n",
      "Requirement already satisfied: ptyprocess>=0.5 in /home/astewart/.local/share/pipx/venvs/jupyterlab/lib/python3.12/site-packages (from pexpect>4.3->ipython>=6.1.0->ipywidgets) (0.7.0)\n",
      "Requirement already satisfied: wcwidth in /home/astewart/.local/share/pipx/venvs/jupyterlab/lib/python3.12/site-packages (from prompt_toolkit<3.1.0,>=3.0.41->ipython>=6.1.0->ipywidgets) (0.2.13)\n",
      "Requirement already satisfied: annotated-types>=0.6.0 in /home/astewart/.local/share/pipx/venvs/jupyterlab/lib/python3.12/site-packages (from pydantic>=1.8->openapi-pydantic->requests_openapi) (0.7.0)\n",
      "Requirement already satisfied: pydantic-core==2.27.2 in /home/astewart/.local/share/pipx/venvs/jupyterlab/lib/python3.12/site-packages (from pydantic>=1.8->openapi-pydantic->requests_openapi) (2.27.2)\n",
      "Requirement already satisfied: typing-extensions>=4.12.2 in /home/astewart/.local/share/pipx/venvs/jupyterlab/lib/python3.12/site-packages (from pydantic>=1.8->openapi-pydantic->requests_openapi) (4.12.2)\n",
      "Requirement already satisfied: executing>=1.2.0 in /home/astewart/.local/share/pipx/venvs/jupyterlab/lib/python3.12/site-packages (from stack_data->ipython>=6.1.0->ipywidgets) (2.1.0)\n",
      "Requirement already satisfied: asttokens>=2.1.0 in /home/astewart/.local/share/pipx/venvs/jupyterlab/lib/python3.12/site-packages (from stack_data->ipython>=6.1.0->ipywidgets) (3.0.0)\n",
      "Requirement already satisfied: pure-eval in /home/astewart/.local/share/pipx/venvs/jupyterlab/lib/python3.12/site-packages (from stack_data->ipython>=6.1.0->ipywidgets) (0.2.3)\n",
      "Note: you may need to restart the kernel to use updated packages.\n"
     ]
    }
   ],
   "source": [
    "%pip install ipywidgets requests_openapi"
   ]
  },
  {
   "cell_type": "code",
   "execution_count": 2,
   "id": "80fef093-5e6a-41b2-9a96-31c5ee3ff7fe",
   "metadata": {
    "editable": true,
    "slideshow": {
     "slide_type": "skip"
    },
    "tags": []
   },
   "outputs": [],
   "source": [
    "import ipywidgets as widgets\n",
    "import requests_openapi"
   ]
  },
  {
   "cell_type": "code",
   "execution_count": 3,
   "id": "d5b2be0a-e978-4c5a-91c3-430c6a1d16ef",
   "metadata": {
    "editable": true,
    "slideshow": {
     "slide_type": ""
    },
    "tags": []
   },
   "outputs": [],
   "source": [
    "bigtent_url_select = widgets.Dropdown(options = [\"https://spicesalad.org/omnibor\", \"http://localhost:3000/omnibor\"])\n",
    "package_input = widgets.Text(value='pkg:maven/org.jbundle.base.db/org.jbundle.base.db.memory@0.7.7')"
   ]
  },
  {
   "cell_type": "markdown",
   "id": "8ad8ca9a-ac8b-4242-89b2-ad4ae0cbe78f",
   "metadata": {
    "editable": true,
    "slideshow": {
     "slide_type": ""
    },
    "tags": []
   },
   "source": [
    "# Settings\n",
    "\n",
    "The BigTent URL selection chooses between the public interface and a local instance; in the future this can include user instances, perhaps."
   ]
  },
  {
   "cell_type": "code",
   "execution_count": 4,
   "id": "7c742695-ee4a-411b-9b5c-5e99a4d4260a",
   "metadata": {
    "editable": true,
    "slideshow": {
     "slide_type": ""
    },
    "tags": []
   },
   "outputs": [
    {
     "data": {
      "application/vnd.jupyter.widget-view+json": {
       "model_id": "8a1523e2428f45408baa0c0993ef1358",
       "version_major": 2,
       "version_minor": 0
      },
      "text/plain": [
       "Dropdown(options=('https://spicesalad.org/omnibor', 'http://localhost:3000/omnibor'), value='https://spicesala…"
      ]
     },
     "execution_count": 4,
     "metadata": {},
     "output_type": "execute_result"
    }
   ],
   "source": [
    "bigtent_url_select"
   ]
  },
  {
   "cell_type": "code",
   "execution_count": 5,
   "id": "eacdb54e-2b95-440f-80d0-3e64e29e19d6",
   "metadata": {
    "editable": true,
    "slideshow": {
     "slide_type": ""
    },
    "tags": []
   },
   "outputs": [
    {
     "data": {
      "application/vnd.jupyter.widget-view+json": {
       "model_id": "5c8b734a82e4479a84de81b70bfc20b9",
       "version_major": 2,
       "version_minor": 0
      },
      "text/plain": [
       "Text(value='pkg:maven/org.jbundle.base.db/org.jbundle.base.db.memory@0.7.7')"
      ]
     },
     "execution_count": 5,
     "metadata": {},
     "output_type": "execute_result"
    }
   ],
   "source": [
    "package_input"
   ]
  },
  {
   "cell_type": "markdown",
   "id": "ca399fbb-7025-489b-b7c9-66332114fb65",
   "metadata": {
    "editable": true,
    "slideshow": {
     "slide_type": ""
    },
    "tags": []
   },
   "source": [
    "# Playground"
   ]
  },
  {
   "cell_type": "code",
   "execution_count": 8,
   "id": "85fe636d-c6f8-4b5a-85e8-313c467d5917",
   "metadata": {
    "editable": true,
    "slideshow": {
     "slide_type": ""
    },
    "tags": []
   },
   "outputs": [],
   "source": [
    "client = requests_openapi.Client()\n",
    "client.load_spec_from_file(\"../openapi.yaml\")\n",
    "client.set_server(requests_openapi.Server(url=bigtent_url_select.value))\n",
    "client.requestor.headers.update({\"Accept\": \"application/json\"})"
   ]
  },
  {
   "cell_type": "code",
   "execution_count": 9,
   "id": "6889bb8e-a7a2-4102-99d0-3156a883b95d",
   "metadata": {},
   "outputs": [
    {
     "data": {
      "text/plain": [
       "{'connections': [['AliasTo',\n",
       "   'gitoid:blob:sha256:8eb61a451378ccabf1c4c10602bd8a91f695aac8df8d59aeb93d78d40bffdb52']],\n",
       " 'file_size': 4715,\n",
       " 'identifier': 'pkg:maven/org.jbundle.base.db/org.jbundle.base.db.memory@0.7.7',\n",
       " 'merged_from': [],\n",
       " 'metadata': None,\n",
       " 'reference': [6615407043135594030, 3845861424]}"
      ]
     },
     "execution_count": 9,
     "metadata": {},
     "output_type": "execute_result"
    }
   ],
   "source": [
    "client.dereferenceAlias(alias=package_input.value).json()"
   ]
  },
  {
   "cell_type": "code",
   "execution_count": 10,
   "id": "3cc4260e-0bdc-49a4-bafd-c150fecd2a32",
   "metadata": {},
   "outputs": [
    {
     "data": {
      "text/plain": [
       "{'connections': [['AliasFrom',\n",
       "   'gitoid:blob:sha1:5f3957208b2d9278dab7759b42978791d0ace58f'],\n",
       "  ['AliasFrom', 'md5:7952f190ecd2eec9ed9cd11dba4797ef'],\n",
       "  ['AliasFrom',\n",
       "   'pkg:maven/org.jbundle.base.db/org.jbundle.base.db.memory@0.7.7'],\n",
       "  ['AliasFrom', 'sha1:32b663d23ea0f57e9b983e0a4cb0fed1449e7c9b'],\n",
       "  ['AliasFrom',\n",
       "   'sha256:0cd779d1c655266717d276a5a5c647691b281e34b6b543feed273f37e18286eb'],\n",
       "  ['AliasFrom', 'swh:1:cnt:5f3957208b2d9278dab7759b42978791d0ace58f'],\n",
       "  ['Contains',\n",
       "   'gitoid:blob:sha256:63bdc1e42c6f6b9022b590110cb1784b51c8787d6efe1c22d92ed72b92204642'],\n",
       "  ['Contains',\n",
       "   'gitoid:blob:sha256:8ec2806d68ce48437574cce64954aa927a1088428c5fd8a0c8536410cceb9171'],\n",
       "  ['Contains',\n",
       "   'gitoid:blob:sha256:b36af7fd927479690571a9a19091827bbb2d0dd39bbd927f7a190e6db6d8d491'],\n",
       "  ['Contains',\n",
       "   'gitoid:blob:sha256:ea55ded23440dfca7c21c73273791c8843e0bb7fe53f26e041c9da0c7ed14f9b'],\n",
       "  ['Contains',\n",
       "   'gitoid:blob:sha256:f10ce9bdaa1e541d96bae07e83794cd66754cb1399307d9f805300be881f6d42'],\n",
       "  ['ContainedBy',\n",
       "   'gitoid:blob:sha256:77cc805c07bc0e7e8db547e6c52ccc5f4a7042fe43da0ac666428609bd2ea431'],\n",
       "  ['ContainedBy',\n",
       "   'gitoid:blob:sha256:94f20744ba9fcce71a0770fcf22808768b9e5a69a5587ce32b1bb31a89b76f92']],\n",
       " 'file_size': 4715,\n",
       " 'identifier': 'gitoid:blob:sha256:8eb61a451378ccabf1c4c10602bd8a91f695aac8df8d59aeb93d78d40bffdb52',\n",
       " 'merged_from': [],\n",
       " 'metadata': {'extra': {'artifact_id': ['org.jbundle.base.db.memory'],\n",
       "   'group_id': ['org.jbundle.base.db'],\n",
       "   'package_protocol': ['maven'],\n",
       "   'purl': ['pkg:maven/org.jbundle.base.db/org.jbundle.base.db.memory@0.7.7'],\n",
       "   'type': ['other'],\n",
       "   'version': ['0.7.7']},\n",
       "  'file_names': ['/lib/org.jbundle.base.db.memory-0.7.7.jar',\n",
       "   'lib/org.jbundle.base.db.memory-0.7.7.jar',\n",
       "   'pkg:maven/org.jbundle.base.db/org.jbundle.base.db.memory@0.7.7'],\n",
       "  'file_sub_type': ['maven'],\n",
       "  'file_type': ['other', 'package']},\n",
       " 'reference': [3829179690543244013, 7237957137]}"
      ]
     },
     "execution_count": 10,
     "metadata": {},
     "output_type": "execute_result"
    }
   ],
   "source": [
    "client.get(gitoid=_[\"connections\"][0][1]).json()"
   ]
  },
  {
   "cell_type": "markdown",
   "id": "cea761ab-604f-4af6-80df-436cc896d92f",
   "metadata": {
    "scrolled": true
   },
   "source": [
    "Dereferencing an alias, in this case the sha256 hash of `org/jboss/pressgang/ccms/provider/DataProviderFactory$1.class` from `provider-commons-1.8.jar` from Maven Central"
   ]
  },
  {
   "cell_type": "code",
   "execution_count": 11,
   "id": "ebc66fe3-50e9-4964-9ba9-615014144323",
   "metadata": {
    "scrolled": true
   },
   "outputs": [
    {
     "data": {
      "text/plain": [
       "{'connections': [['AliasTo',\n",
       "   'gitoid:blob:sha256:5455466dfb4e3c5bd2ad9d2256832992b296994033e368e2495b5f532d4b4e02']],\n",
       " 'file_size': 6051,\n",
       " 'identifier': 'sha256:6d36735a37e243cb06fda2cf1f7710dc1941b5a7414f4de97b3d6a58fc80949a',\n",
       " 'merged_from': [],\n",
       " 'metadata': None,\n",
       " 'reference': [3112435428925353372, 721693017]}"
      ]
     },
     "execution_count": 11,
     "metadata": {},
     "output_type": "execute_result"
    }
   ],
   "source": [
    "client.dereferenceAlias(alias=\"sha256:6d36735a37e243cb06fda2cf1f7710dc1941b5a7414f4de97b3d6a58fc80949a\").json()"
   ]
  },
  {
   "cell_type": "markdown",
   "id": "34e3aa0e-8491-4489-a284-6160b3c3b4b6",
   "metadata": {},
   "source": [
    "Directly looking up the gitoid `gitoid:sha1:2847f07bf67df62cf5bb80d7150cfdb65b82c66e`, the same file"
   ]
  },
  {
   "cell_type": "code",
   "execution_count": 12,
   "id": "b85f486b-ef64-4665-93e2-35e7e6cab478",
   "metadata": {
    "scrolled": true
   },
   "outputs": [
    {
     "data": {
      "text/plain": [
       "{'connections': [['AliasFrom',\n",
       "   'gitoid:blob:sha1:2847f07bf67df62cf5bb80d7150cfdb65b82c66e'],\n",
       "  ['AliasFrom', 'md5:965617e94726b9a9001d74c21632d6e4'],\n",
       "  ['AliasFrom', 'sha1:b4c7238ef0e8e82bc4fe5c0b380694d19812e074'],\n",
       "  ['AliasFrom',\n",
       "   'sha256:6d36735a37e243cb06fda2cf1f7710dc1941b5a7414f4de97b3d6a58fc80949a'],\n",
       "  ['AliasFrom', 'swh:1:cnt:2847f07bf67df62cf5bb80d7150cfdb65b82c66e'],\n",
       "  ['ContainedBy',\n",
       "   'gitoid:blob:sha256:40fee15cc0d1a436ba1da116ae62e78f2b56b6f3d35ed39772dc972144597f03'],\n",
       "  ['ContainedBy',\n",
       "   'gitoid:blob:sha256:46c2666bad7c6b395b9e19b3bc5d9adb63db0e5d24d229b1977bf43889131197'],\n",
       "  ['ContainedBy',\n",
       "   'gitoid:blob:sha256:5c12e555dfa6028cf1bde92805c1c93983485bcc6b1d638c590bfba33d29ca76'],\n",
       "  ['ContainedBy',\n",
       "   'gitoid:blob:sha256:a3bfd334e7cecebd1951d3ada73f53a7374110f11cf4cbee74dc6c61e1ae6662'],\n",
       "  ['ContainedBy',\n",
       "   'gitoid:blob:sha256:caf36b1a80b7cefa9bbf608d6f2c2b136e1e76aa34346c98a29c048cf61d1a9c'],\n",
       "  ['BuiltFrom',\n",
       "   'gitoid:blob:sha256:688cbe6d64ca12cca9654cacd3fd46e44ed2fe0f32b871163dda574c60b62c95']],\n",
       " 'file_size': 6051,\n",
       " 'identifier': 'gitoid:blob:sha256:5455466dfb4e3c5bd2ad9d2256832992b296994033e368e2495b5f532d4b4e02',\n",
       " 'merged_from': [],\n",
       " 'metadata': {'extra': {'source': ['gitoid:blob:sha256:688cbe6d64ca12cca9654cacd3fd46e44ed2fe0f32b871163dda574c60b62c95'],\n",
       "   'subtype': ['classfile'],\n",
       "   'type': ['object']},\n",
       "  'file_names': ['org/jboss/pressgang/ccms/provider/DataProviderFactory.class'],\n",
       "  'file_sub_type': ['classfile'],\n",
       "  'file_type': ['object: classfile']},\n",
       " 'reference': [5161122889472416498, 4814214573]}"
      ]
     },
     "execution_count": 12,
     "metadata": {},
     "output_type": "execute_result"
    }
   ],
   "source": [
    "client.get(gitoid=\"gitoid:blob:sha1:2847f07bf67df62cf5bb80d7150cfdb65b82c66e\").json()"
   ]
  },
  {
   "cell_type": "markdown",
   "id": "cc210359-68be-4042-b8a6-7826f7d3809d",
   "metadata": {},
   "source": [
    "This gitoid was constructed with git:\n",
    "\n",
    "```bash\n",
    "git --git-dir=\"$HOME/tmp-git\" init --object-format=sha256\n",
    "git --git-dir=\"$HOME/tmp-git\" hash-object 'org/jboss/pressgang/ccms/provider/DataProviderFactory\\$1.class'\n",
    "```\n",
    "\n",
    "from provider-commons 1.8 from MavenCentral."
   ]
  },
  {
   "cell_type": "code",
   "execution_count": 13,
   "id": "04beb00a-fed6-45e8-b03a-30c8c4f48a39",
   "metadata": {},
   "outputs": [
    {
     "data": {
      "text/plain": [
       "{'connections': [['AliasFrom',\n",
       "   'gitoid:blob:sha1:34a0f1a7b0e25cff912a808f69f92bd030411548'],\n",
       "  ['AliasFrom', 'md5:9a964e6f8c426ac0d7b25d5663096196'],\n",
       "  ['AliasFrom', 'sha1:58d1d4484cd3f1794f27ec26395b1bf54aa2b91e'],\n",
       "  ['AliasFrom',\n",
       "   'sha256:31ff83f2169e465b2a47aa6ef5f9ebb0b6bfd37c6edf9b25b39d2b79ea81ff4e'],\n",
       "  ['AliasFrom', 'swh:1:cnt:34a0f1a7b0e25cff912a808f69f92bd030411548'],\n",
       "  ['ContainedBy',\n",
       "   'gitoid:blob:sha256:40fee15cc0d1a436ba1da116ae62e78f2b56b6f3d35ed39772dc972144597f03'],\n",
       "  ['ContainedBy',\n",
       "   'gitoid:blob:sha256:46c2666bad7c6b395b9e19b3bc5d9adb63db0e5d24d229b1977bf43889131197'],\n",
       "  ['ContainedBy',\n",
       "   'gitoid:blob:sha256:5c12e555dfa6028cf1bde92805c1c93983485bcc6b1d638c590bfba33d29ca76'],\n",
       "  ['ContainedBy',\n",
       "   'gitoid:blob:sha256:a3bfd334e7cecebd1951d3ada73f53a7374110f11cf4cbee74dc6c61e1ae6662'],\n",
       "  ['ContainedBy',\n",
       "   'gitoid:blob:sha256:caf36b1a80b7cefa9bbf608d6f2c2b136e1e76aa34346c98a29c048cf61d1a9c'],\n",
       "  ['BuiltFrom',\n",
       "   'gitoid:blob:sha256:688cbe6d64ca12cca9654cacd3fd46e44ed2fe0f32b871163dda574c60b62c95']],\n",
       " 'file_size': 1134,\n",
       " 'identifier': 'gitoid:blob:sha256:94f0942adcc7d37dc63cd69bc2f1fc116ad18cbacf0f09ffefc862031978f9af',\n",
       " 'merged_from': [],\n",
       " 'metadata': {'extra': {'source': ['gitoid:blob:sha256:688cbe6d64ca12cca9654cacd3fd46e44ed2fe0f32b871163dda574c60b62c95'],\n",
       "   'subtype': ['classfile'],\n",
       "   'type': ['object']},\n",
       "  'file_names': ['org/jboss/pressgang/ccms/provider/DataProviderFactory$1.class'],\n",
       "  'file_sub_type': ['classfile'],\n",
       "  'file_type': ['object: classfile']},\n",
       " 'reference': [1159796614578834725, 8785643866]}"
      ]
     },
     "execution_count": 13,
     "metadata": {},
     "output_type": "execute_result"
    }
   ],
   "source": [
    "client.get(gitoid='gitoid:blob:sha256:94f0942adcc7d37dc63cd69bc2f1fc116ad18cbacf0f09ffefc862031978f9af').json()"
   ]
  },
  {
   "cell_type": "markdown",
   "id": "4126760d-3154-4978-9819-fb164b633d15",
   "metadata": {},
   "source": [
    "This gitoid was constructed by git, but since sha1 is the default hash at the moment, it's much simpler:\n",
    "\n",
    "```bash\n",
    "git haah-object 'org/jboss/pressgang/ccms/provider/DataProviderFactory\\$1.class'\n",
    "```\n",
    "\n",
    "Also using provider-commons 1.8"
   ]
  },
  {
   "cell_type": "code",
   "execution_count": 15,
   "id": "36713068-816f-4021-ba9f-c6a673b1b311",
   "metadata": {},
   "outputs": [
    {
     "data": {
      "text/plain": [
       "{'connections': [['AliasTo',\n",
       "   'gitoid:blob:sha256:94f0942adcc7d37dc63cd69bc2f1fc116ad18cbacf0f09ffefc862031978f9af']],\n",
       " 'file_size': 1134,\n",
       " 'identifier': 'gitoid:blob:sha1:34a0f1a7b0e25cff912a808f69f92bd030411548',\n",
       " 'merged_from': [],\n",
       " 'metadata': None,\n",
       " 'reference': [4848444143472454553, 11710418809]}"
      ]
     },
     "execution_count": 15,
     "metadata": {},
     "output_type": "execute_result"
    }
   ],
   "source": [
    "client.dereferenceAlias(alias='gitoid:blob:sha1:34a0f1a7b0e25cff912a808f69f92bd030411548').json()"
   ]
  },
  {
   "cell_type": "code",
   "execution_count": null,
   "id": "72d8eeef-e86b-4590-8100-54be7d7253ac",
   "metadata": {},
   "outputs": [],
   "source": []
  }
 ],
 "metadata": {
  "kernelspec": {
   "display_name": "Python 3 (ipykernel)",
   "language": "python",
   "name": "python3"
  },
  "language_info": {
   "codemirror_mode": {
    "name": "ipython",
    "version": 3
   },
   "file_extension": ".py",
   "mimetype": "text/x-python",
   "name": "python",
   "nbconvert_exporter": "python",
   "pygments_lexer": "ipython3",
   "version": "3.12.7"
  }
 },
 "nbformat": 4,
 "nbformat_minor": 5
}
